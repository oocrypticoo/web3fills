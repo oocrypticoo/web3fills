{
 "cells": [
  {
   "cell_type": "code",
   "execution_count": 5,
   "id": "10af38c6",
   "metadata": {},
   "outputs": [],
   "source": [
    "import requests\n",
    "from web3 import Web3\n",
    "web3 = Web3(Web3.HTTPProvider('https://mainnet.infura.io/v3/bdfb19d0e7914c1c975dd89500550e06'))\n",
    "tokenDict={'0xc02aaa39b223fe8d0a0e5c4f27ead9083c756cc2':{'symbol':'WETH','decimal':18},\n",
    "           '0x6b175474e89094c44da98b954eedeac495271d0f':{'symbol':'DAI','decimal':18},\n",
    "           '0x2260fac5e5542a773aa44fbcfedf7c193bc2c599':{'symbol':'WBTC','decimal':8},\n",
    "           '0xdac17f958d2ee523a2206206994597c13d831ec7':{'symbol':'USDT','decimal':6},\n",
    "           '0xa0b86991c6218b36c1d19d4a2e9eb0ce3606eb48':{'symbol':'USDC','decimal':6},\n",
    "           '0xa47c8bf37f92abed4a126bda807a7b7498661acd':{'symbol':'UST','decimal':18},\n",
    "          }\n",
    "import re\n",
    "def getFillPrice(txHash='0xaf8207e7a890b6a7ec1994f304680e93069b6e7e9aebe38c5722d7986265e845',sender='dead',rebatePct=0.75):\n",
    "    txdetails=web3.eth.get_transaction(txHash)\n",
    "    maxFeePerGas=txdetails['maxFeePerGas']\n",
    "    maxPriorityFeePerGas=txdetails['maxPriorityFeePerGas']\n",
    "    #transfer topic, shows incoming/outgoing tokens\n",
    "    tradetopic='0xddf252ad1be2c89b69c2b068fc378daa952ba7f163c4a11628f55a4df523b3ef'\n",
    "    txreceipt=web3.eth.get_transaction_receipt(txHash)\n",
    "    gasUsed=txreceipt['gasUsed']\n",
    "    gasPrice=txreceipt['effectiveGasPrice']\n",
    "    gasInETH=gasUsed*gasPrice/10**18\n",
    "    txLogs=txreceipt['logs']\n",
    "    blockBaseFee=gasPrice-maxPriorityFeePerGas\n",
    "    rebateInETH=blockBaseFee*gasUsed/10**18*rebatePct\n",
    "    \n",
    "    uniqueFills = []\n",
    "    for log in txLogs:\n",
    "        tokenAddress=log['address'].lower()\n",
    "        if(tokenAddress in tokenDict):\n",
    "            if(web3.toHex(log['topics'][0])==tradetopic):\n",
    "                #we are receiver\n",
    "                symbol=tokenDict[tokenAddress]['symbol']\n",
    "                decimal=tokenDict[tokenAddress]['decimal']\n",
    "                buysell='Buy' if(re.search(sender,web3.toHex(log['topics'][2]).lower())) else 'Sell'\n",
    "                uniqueFills.append({'address': tokenAddress, 'qty': web3.toInt(hexstr=log['data']),'symbol': symbol,'decimal': decimal,'direction': buysell})\n",
    "\n",
    "    if(uniqueFills[0]['address']=='0xc02aaa39b223fe8d0a0e5c4f27ead9083c756cc2'):\n",
    "        legAfill=uniqueFills[0]['qty']/10**uniqueFills[0]['decimal']\n",
    "        legAsymbol=uniqueFills[0]['symbol']\n",
    "        \n",
    "        legBfill=uniqueFills[1]['qty']/10**uniqueFills[1]['decimal']\n",
    "        legBsymbol=uniqueFills[1]['symbol']\n",
    "        \n",
    "        direction=uniqueFills[0]['direction']\n",
    "    else:\n",
    "        legAfill=uniqueFills[1]['qty']/10**uniqueFills[1]['decimal']\n",
    "        legAsymbol=uniqueFills[1]['symbol']\n",
    "        \n",
    "        legBfill=uniqueFills[0]['qty']/10**uniqueFills[0]['decimal']\n",
    "        legBsymbol=uniqueFills[0]['symbol']\n",
    "        \n",
    "        direction=uniqueFills[1]['direction']\n",
    "    \n",
    "    if(direction=='Buy'):\n",
    "        print(\"Bought\",legAfill,legAsymbol,\"for\",legBfill,legBsymbol)\n",
    "        print(\"TX cost:\",gasInETH,\"ETH\")\n",
    "        print(\"Rebate:\",rebateInETH,\"ETH\")\n",
    "        avgFill=legBfill/(legAfill-gasInETH+rebateInETH)\n",
    "        print(\"Avg Fill Price\",avgFill)\n",
    "    else:\n",
    "        print(\"Sold\",legAfill,legAsymbol,\"for\",legBfill,legBsymbol)\n",
    "        print(\"TX cost:\",gasInETH,\"ETH\")\n",
    "        print(\"Rebate:\",rebateInETH,\"ETH\")\n",
    "        avgFill=legBfill/(legAfill+gasInETH-rebateInETH)\n",
    "        print(\"Avg Fill Price\",avgFill)"
   ]
  },
  {
   "cell_type": "code",
   "execution_count": 6,
   "id": "82e611da",
   "metadata": {},
   "outputs": [
    {
     "name": "stdout",
     "output_type": "stream",
     "text": [
      "Sold 200.0 WETH for 503030.086889 USDC\n",
      "TX cost: 0.16314851969641975 ETH\n",
      "Rebate: 0.023743824522314806 ETH\n",
      "Avg Fill Price 2513.398536660729\n"
     ]
    }
   ],
   "source": [
    "getFillPrice('0xa037d93fa0fd5c267fe0d9c2e91145a672a6e82c9b50ae50fb957302dbd282d3',rebatePct=0.75)"
   ]
  },
  {
   "cell_type": "code",
   "execution_count": null,
   "id": "93bb0acf",
   "metadata": {},
   "outputs": [],
   "source": []
  }
 ],
 "metadata": {
  "hide_input": false,
  "kernelspec": {
   "display_name": "Python 3 (ipykernel)",
   "language": "python",
   "name": "python3"
  },
  "language_info": {
   "codemirror_mode": {
    "name": "ipython",
    "version": 3
   },
   "file_extension": ".py",
   "mimetype": "text/x-python",
   "name": "python",
   "nbconvert_exporter": "python",
   "pygments_lexer": "ipython3",
   "version": "3.9.7"
  },
  "varInspector": {
   "cols": {
    "lenName": 16,
    "lenType": 16,
    "lenVar": 40
   },
   "kernels_config": {
    "python": {
     "delete_cmd_postfix": "",
     "delete_cmd_prefix": "del ",
     "library": "var_list.py",
     "varRefreshCmd": "print(var_dic_list())"
    },
    "r": {
     "delete_cmd_postfix": ") ",
     "delete_cmd_prefix": "rm(",
     "library": "var_list.r",
     "varRefreshCmd": "cat(var_dic_list()) "
    }
   },
   "types_to_exclude": [
    "module",
    "function",
    "builtin_function_or_method",
    "instance",
    "_Feature"
   ],
   "window_display": false
  }
 },
 "nbformat": 4,
 "nbformat_minor": 5
}
